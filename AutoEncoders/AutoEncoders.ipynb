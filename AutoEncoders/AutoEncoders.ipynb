{
 "cells": [
  {
   "cell_type": "code",
   "execution_count": null,
   "metadata": {
    "id": "A7LMdMPzf5ax"
   },
   "outputs": [],
   "source": [
    "# Importing the libraries\n",
    "import tensorflow as tf\n",
    "from tensorflow.keras.datasets import fashion_mnist\n",
    "from tensorflow.keras.models import Model\n",
    "from tensorflow.keras.layers import Input, Dense, Flatten, Reshape\n",
    "import numpy as np\n",
    "import pickle\n",
    "import os"
   ]
  },
  {
   "cell_type": "markdown",
   "metadata": {
    "id": "jdvW5SbIinrx"
   },
   "source": [
    "Encoder Class:\n",
    "Encodes input images into latent vectors.\n",
    "Includes a save_latent method to store latent vectors into a binary file.\n",
    "\n",
    "Decoder Class:\n",
    "Reconstructs the images from latent vectors.\n",
    "\n",
    "Autoencoder Pipeline: Combines Encoder and Decoder for training. It uses mean squared error (MSE) loss for pixel-wise comparison.\n",
    "\n",
    "Visualization: The code shows original and reconstructed images for qualitative evaluation.\n",
    "\n",
    "File Saving: Latent vectors are stored as a .bin file for potential downstream tasks."
   ]
  },
  {
   "cell_type": "code",
   "execution_count": 34,
   "metadata": {
    "colab": {
     "base_uri": "https://localhost:8080/"
    },
    "id": "6MmoWLfBf5ay",
    "outputId": "2de9e3ca-3ce7-4078-fd06-8cc5eea8ad64"
   },
   "outputs": [],
   "source": [
    "# Load the Fashion MNIST dataset\n",
    "(x_train, _), (x_test, _) = fashion_mnist.load_data()\n",
    "x_train = x_train.astype('float32') / 255.0\n",
    "x_test = x_test.astype('float32') / 255.0"
   ]
  },
  {
   "cell_type": "code",
   "execution_count": 35,
   "metadata": {
    "id": "NFVTABTjf5ay"
   },
   "outputs": [],
   "source": [
    "# Flatten the images for input to the model\n",
    "x_train = x_train.reshape(-1, 28 * 28)\n",
    "x_test = x_test.reshape(-1, 28 * 28)"
   ]
  },
  {
   "cell_type": "code",
   "execution_count": 36,
   "metadata": {
    "id": "p35Yhgw9f5ay"
   },
   "outputs": [],
   "source": [
    "# Define Encoder class\n",
    "class Encoder(Model):\n",
    "    def __init__(self, latent_dim):\n",
    "        super(Encoder, self).__init__()\n",
    "        self.flatten = Flatten()\n",
    "        self.fc1 = Dense(latent_dim, activation='relu')\n",
    "        self.fc2 = Dense(latent_dim, activation='linear')\n",
    "\n",
    "    def call(self, x):\n",
    "        x = self.flatten(x)\n",
    "        x = self.fc1(x)\n",
    "        return self.fc2(x)\n",
    "\n",
    "    def save_latent(self, latent_vectors, filepath):\n",
    "        with open(filepath, 'wb') as f:\n",
    "            pickle.dump(latent_vectors, f)\n",
    "        print(f\"Latent vectors saved to {filepath}\")\n"
   ]
  },
  {
   "cell_type": "code",
   "execution_count": 37,
   "metadata": {
    "id": "5htuGWwnf5az"
   },
   "outputs": [],
   "source": [
    "class Decoder(Model):\n",
    "    def __init__(self, latent_dim):\n",
    "        super(Decoder, self).__init__()\n",
    "        self.fc1 = Dense(128, activation='relu')\n",
    "        self.fc2 = Dense(28 * 28, activation='sigmoid')  # Output as 1D vector\n",
    "\n",
    "    def call(self, x):\n",
    "        x = self.fc1(x)\n",
    "        return self.fc2(x)"
   ]
  },
  {
   "cell_type": "code",
   "execution_count": 38,
   "metadata": {
    "id": "zC8TGK22f5az"
   },
   "outputs": [],
   "source": [
    "# Autoencoder training pipeline\n",
    "class Autoencoder(Model):\n",
    "    def __init__(self, latent_dim):\n",
    "        super(Autoencoder, self).__init__()\n",
    "        self.encoder = Encoder(latent_dim)\n",
    "        self.decoder = Decoder(latent_dim)\n",
    "\n",
    "    def call(self, x):\n",
    "        latent = self.encoder(x)\n",
    "        reconstructed = self.decoder(latent)\n",
    "        return reconstructed"
   ]
  },
  {
   "cell_type": "code",
   "execution_count": 39,
   "metadata": {
    "id": "1M6S38kuf5az"
   },
   "outputs": [],
   "source": [
    "# Instantiate the model\n",
    "latent_dim = 128\n",
    "autoencoder = Autoencoder(latent_dim)"
   ]
  },
  {
   "cell_type": "code",
   "execution_count": 40,
   "metadata": {
    "id": "ovi1vielf5a0"
   },
   "outputs": [],
   "source": [
    "# Compile the model\n",
    "autoencoder.compile(optimizer='adam', loss='mse')"
   ]
  },
  {
   "cell_type": "code",
   "execution_count": 41,
   "metadata": {
    "colab": {
     "base_uri": "https://localhost:8080/"
    },
    "id": "H2a7YP3If5a0",
    "outputId": "deb226c0-faf7-4256-9fa4-5e25cc155927"
   },
   "outputs": [
    {
     "name": "stdout",
     "output_type": "stream",
     "text": [
      "Epoch 1/20\n",
      "\u001b[1m235/235\u001b[0m \u001b[32m━━━━━━━━━━━━━━━━━━━━\u001b[0m\u001b[37m\u001b[0m \u001b[1m2s\u001b[0m 5ms/step - loss: 0.0675 - val_loss: 0.0209\n",
      "Epoch 2/20\n",
      "\u001b[1m235/235\u001b[0m \u001b[32m━━━━━━━━━━━━━━━━━━━━\u001b[0m\u001b[37m\u001b[0m \u001b[1m1s\u001b[0m 5ms/step - loss: 0.0201 - val_loss: 0.0169\n",
      "Epoch 3/20\n",
      "\u001b[1m235/235\u001b[0m \u001b[32m━━━━━━━━━━━━━━━━━━━━\u001b[0m\u001b[37m\u001b[0m \u001b[1m1s\u001b[0m 5ms/step - loss: 0.0163 - val_loss: 0.0147\n",
      "Epoch 4/20\n",
      "\u001b[1m235/235\u001b[0m \u001b[32m━━━━━━━━━━━━━━━━━━━━\u001b[0m\u001b[37m\u001b[0m \u001b[1m1s\u001b[0m 5ms/step - loss: 0.0144 - val_loss: 0.0136\n",
      "Epoch 5/20\n",
      "\u001b[1m235/235\u001b[0m \u001b[32m━━━━━━━━━━━━━━━━━━━━\u001b[0m\u001b[37m\u001b[0m \u001b[1m1s\u001b[0m 5ms/step - loss: 0.0134 - val_loss: 0.0125\n",
      "Epoch 6/20\n",
      "\u001b[1m235/235\u001b[0m \u001b[32m━━━━━━━━━━━━━━━━━━━━\u001b[0m\u001b[37m\u001b[0m \u001b[1m1s\u001b[0m 5ms/step - loss: 0.0122 - val_loss: 0.0120\n",
      "Epoch 7/20\n",
      "\u001b[1m235/235\u001b[0m \u001b[32m━━━━━━━━━━━━━━━━━━━━\u001b[0m\u001b[37m\u001b[0m \u001b[1m1s\u001b[0m 5ms/step - loss: 0.0116 - val_loss: 0.0113\n",
      "Epoch 8/20\n",
      "\u001b[1m235/235\u001b[0m \u001b[32m━━━━━━━━━━━━━━━━━━━━\u001b[0m\u001b[37m\u001b[0m \u001b[1m1s\u001b[0m 5ms/step - loss: 0.0110 - val_loss: 0.0108\n",
      "Epoch 9/20\n",
      "\u001b[1m235/235\u001b[0m \u001b[32m━━━━━━━━━━━━━━━━━━━━\u001b[0m\u001b[37m\u001b[0m \u001b[1m1s\u001b[0m 5ms/step - loss: 0.0106 - val_loss: 0.0103\n",
      "Epoch 10/20\n",
      "\u001b[1m235/235\u001b[0m \u001b[32m━━━━━━━━━━━━━━━━━━━━\u001b[0m\u001b[37m\u001b[0m \u001b[1m1s\u001b[0m 5ms/step - loss: 0.0102 - val_loss: 0.0100\n",
      "Epoch 11/20\n",
      "\u001b[1m235/235\u001b[0m \u001b[32m━━━━━━━━━━━━━━━━━━━━\u001b[0m\u001b[37m\u001b[0m \u001b[1m1s\u001b[0m 5ms/step - loss: 0.0098 - val_loss: 0.0096\n",
      "Epoch 12/20\n",
      "\u001b[1m235/235\u001b[0m \u001b[32m━━━━━━━━━━━━━━━━━━━━\u001b[0m\u001b[37m\u001b[0m \u001b[1m1s\u001b[0m 5ms/step - loss: 0.0095 - val_loss: 0.0094\n",
      "Epoch 13/20\n",
      "\u001b[1m235/235\u001b[0m \u001b[32m━━━━━━━━━━━━━━━━━━━━\u001b[0m\u001b[37m\u001b[0m \u001b[1m1s\u001b[0m 5ms/step - loss: 0.0093 - val_loss: 0.0092\n",
      "Epoch 14/20\n",
      "\u001b[1m235/235\u001b[0m \u001b[32m━━━━━━━━━━━━━━━━━━━━\u001b[0m\u001b[37m\u001b[0m \u001b[1m1s\u001b[0m 5ms/step - loss: 0.0090 - val_loss: 0.0090\n",
      "Epoch 15/20\n",
      "\u001b[1m235/235\u001b[0m \u001b[32m━━━━━━━━━━━━━━━━━━━━\u001b[0m\u001b[37m\u001b[0m \u001b[1m1s\u001b[0m 5ms/step - loss: 0.0088 - val_loss: 0.0088\n",
      "Epoch 16/20\n",
      "\u001b[1m235/235\u001b[0m \u001b[32m━━━━━━━━━━━━━━━━━━━━\u001b[0m\u001b[37m\u001b[0m \u001b[1m1s\u001b[0m 5ms/step - loss: 0.0086 - val_loss: 0.0086\n",
      "Epoch 17/20\n",
      "\u001b[1m235/235\u001b[0m \u001b[32m━━━━━━━━━━━━━━━━━━━━\u001b[0m\u001b[37m\u001b[0m \u001b[1m1s\u001b[0m 5ms/step - loss: 0.0084 - val_loss: 0.0085\n",
      "Epoch 18/20\n",
      "\u001b[1m235/235\u001b[0m \u001b[32m━━━━━━━━━━━━━━━━━━━━\u001b[0m\u001b[37m\u001b[0m \u001b[1m1s\u001b[0m 5ms/step - loss: 0.0083 - val_loss: 0.0083\n",
      "Epoch 19/20\n",
      "\u001b[1m235/235\u001b[0m \u001b[32m━━━━━━━━━━━━━━━━━━━━\u001b[0m\u001b[37m\u001b[0m \u001b[1m1s\u001b[0m 5ms/step - loss: 0.0081 - val_loss: 0.0082\n",
      "Epoch 20/20\n",
      "\u001b[1m235/235\u001b[0m \u001b[32m━━━━━━━━━━━━━━━━━━━━\u001b[0m\u001b[37m\u001b[0m \u001b[1m1s\u001b[0m 5ms/step - loss: 0.0080 - val_loss: 0.0080\n"
     ]
    }
   ],
   "source": [
    "# Train the autoencoder\n",
    "history = autoencoder.fit(x_train, x_train,\n",
    "                          epochs=20,\n",
    "                          batch_size=256,\n",
    "                          shuffle=True,\n",
    "                          validation_data=(x_test, x_test))\n"
   ]
  },
  {
   "cell_type": "code",
   "execution_count": 42,
   "metadata": {
    "colab": {
     "base_uri": "https://localhost:8080/"
    },
    "id": "HVbCWyyvf5a0",
    "outputId": "d6427b83-ea48-4d6a-dc4f-c1f8b9d37c5b"
   },
   "outputs": [
    {
     "name": "stdout",
     "output_type": "stream",
     "text": [
      "Latent vectors saved to latent_vectors.bin\n"
     ]
    }
   ],
   "source": [
    "# Save the latent vectors for the test set\n",
    "latent_vectors = autoencoder.encoder(x_train).numpy()\n",
    "encoder = autoencoder.encoder\n",
    "encoder.save_latent(latent_vectors, 'latent_vectors.bin')"
   ]
  },
  {
   "cell_type": "code",
   "execution_count": 43,
   "metadata": {
    "id": "uhGF0NJmf5a0"
   },
   "outputs": [],
   "source": [
    "# Decode some examples for visualization\n",
    "decoder = autoencoder.decoder\n",
    "reconstructed_images = decoder(latent_vectors[:30]).numpy()"
   ]
  },
  {
   "cell_type": "code",
   "execution_count": 44,
   "metadata": {},
   "outputs": [
    {
     "name": "stdout",
     "output_type": "stream",
     "text": [
      "Max value in reconstructed images: 0.9930954575538635\n",
      "Min value in reconstructed images: 3.982174832939389e-12\n"
     ]
    }
   ],
   "source": [
    "# print max and min values of the reconstructed images\n",
    "print(f\"Max value in reconstructed images: {np.max(reconstructed_images)}\")\n",
    "print(f\"Min value in reconstructed images: {np.min(reconstructed_images)}\")"
   ]
  },
  {
   "cell_type": "markdown",
   "metadata": {},
   "source": [
    "Range of data is 0-1 so we scale it to 0-255 "
   ]
  },
  {
   "cell_type": "code",
   "execution_count": null,
   "metadata": {
    "colab": {
     "base_uri": "https://localhost:8080/",
     "height": 410
    },
    "id": "Y3MwN_GSf5a0",
    "outputId": "4fbd6e42-934f-4fe3-bac9-d3dd504b93f1"
   },
   "outputs": [
    {
     "data": {
      "image/png": "[encoded data removed]",
      "text/plain": [
       "<Figure size 1000x400 with 10 Axes>"
      ]
     },
     "metadata": {},
     "output_type": "display_data"
    }
   ],
   "source": [
    "# Display original and reconstructed images\n",
    "import matplotlib.pyplot as plt\n",
    "\n",
    "plt.figure(figsize=(10, 4))\n",
    "for i in range(5):\n",
    "    # Original images\n",
    "    plt.subplot(2, 5, i + 1)\n",
    "    plt.imshow(x_train[i].reshape(28, 28)*255, cmap='gray') # Rescale to 0-255 and display\n",
    "    plt.title(\"Original\")\n",
    "    plt.axis('off')\n",
    "\n",
    "    # Reconstructed images\n",
    "    plt.subplot(2, 5, i + 6)\n",
    "    plt.imshow(reconstructed_images[i].reshape(28, 28)*255, cmap='gray')    # Rescale to 0-255 and display\n",
    "    plt.title(\"Reconstructed\")\n",
    "    plt.axis('off')\n",
    "\n",
    "plt.tight_layout()\n",
    "plt.show()\n"
   ]
  },
  {
   "cell_type": "code",
   "execution_count": null,
   "metadata": {},
   "outputs": [
    {
     "name": "stdout",
     "output_type": "stream",
     "text": [
      "MSE: [np.float64(618.5573979591836), np.float64(671.7946428571429), np.float64(128.65178571428572), np.float64(420.29974489795916), np.float64(657.1186224489796), np.float64(766.9260204081633), np.float64(432.6275510204082), np.float64(546.6785714285714), np.float64(801.233418367347), np.float64(1140.2767857142858), np.float64(270.88647959183675), np.float64(995.0497448979592), np.float64(740.7372448979592), np.float64(481.97576530612247), np.float64(189.72704081632654), np.float64(422.3380102040816), np.float64(296.11479591836735), np.float64(203.2780612244898), np.float64(283.9375), np.float64(397.66964285714283), np.float64(279.8762755102041), np.float64(239.34821428571428), np.float64(540.5637755102041), np.float64(931.8622448979592), np.float64(207.5497448979592), np.float64(223.39795918367346), np.float64(1342.1926020408164), np.float64(269.4170918367347), np.float64(409.5599489795918), np.float64(344.7780612244898)]\n",
      "PSNR: [np.float64(20.217003554308988), np.float64(19.858438245758077), np.float64(27.036645421794674), np.float64(21.895212344585765), np.float64(19.954365857908776), np.float64(19.283268880246354), np.float64(21.769661877085866), np.float64(20.75348310010407), np.float64(19.09321306030369), np.float64(17.560700780244144), np.float64(23.80293031675247), np.float64(18.152355681677513), np.float64(19.43416178971813), np.float64(21.30055159264799), np.float64(25.349511278158626), np.float64(21.874201914036288), np.float64(23.41620252616872), np.float64(25.049898509129697), np.float64(23.59857606709209), np.float64(22.135579216114536), np.float64(23.661142750194358), np.float64(24.340501691951424), np.float64(20.802334216567747), np.float64(18.43728644546595), np.float64(24.959581569499356), np.float64(24.640011594979782), np.float64(16.85265520145427), np.float64(23.826552169385522), np.float64(22.007628806433246), np.float64(22.755407376835493)]\n",
      "SSIM: [np.float64(0.7672410005769771), np.float64(0.800899913497605), np.float64(0.7776128615475013), np.float64(0.7750616206546348), np.float64(0.7938542848061896), np.float64(0.7894430958312594), np.float64(0.8870300053440376), np.float64(0.7240989883385499), np.float64(0.7159277308042268), np.float64(0.8132407319444744), np.float64(0.8223813213882596), np.float64(0.8018307913321813), np.float64(0.7584296082599651), np.float64(0.8461521501758879), np.float64(0.8900831277427158), np.float64(0.8344098881459375), np.float64(0.9143077739866853), np.float64(0.8263657463323141), np.float64(0.7983782787155663), np.float64(0.7445814438003304), np.float64(0.8130489463140073), np.float64(0.9014632270218078), np.float64(0.787100752639646), np.float64(0.6469165062817781), np.float64(0.8438179271147326), np.float64(0.8767024537288411), np.float64(0.656513834448449), np.float64(0.7078917435860981), np.float64(0.8282913239917165), np.float64(0.7635311814415159)]\n"
     ]
    }
   ],
   "source": [
    "# Find mse psnr and ssim for the reconstructed images\n",
    "from skimage.metrics import mean_squared_error as mse\n",
    "from skimage.metrics import peak_signal_noise_ratio as psnr\n",
    "from skimage.metrics import structural_similarity as ssim\n",
    "\n",
    "mse_values = []\n",
    "psnr_values = []\n",
    "ssim_values = []\n",
    "rmse_values = []\n",
    "\n",
    "for i in range(30):\n",
    "    x_train_img = x_train[i].reshape(28, 28)*255    # Rescale to 0-255 and reshape\n",
    "    x_train_img = x_train_img.astype('uint8')       # Convert to uint8\n",
    "    x_train_img = np.clip(x_train_img, 0, 255)      # Clip to 0-255\n",
    "    reconstructed_images_img = reconstructed_images[i].reshape(28, 28)*255  # Rescale to 0-255 and reshape\n",
    "    reconstructed_images_img = reconstructed_images_img.astype('uint8')     # Convert to uint8\n",
    "    reconstructed_images_img = np.clip(reconstructed_images_img, 0, 255)    # Clip to 0-255\n",
    "    mse_values.append(mse(x_train_img, reconstructed_images_img))   # Calculate MSE\n",
    "    psnr_values.append(psnr(x_train_img, reconstructed_images_img)) # Calculate PSNR\n",
    "    ssim_values.append(ssim(x_train_img, reconstructed_images_img)) # Calculate SSIM\n",
    "    rmse_values.append(np.sqrt(mse(x_train_img, reconstructed_images_img))) # Calculate RMSE\n",
    "\n",
    "print(f\"MSE: {mse_values}\")\n",
    "print(f\"PSNR: {psnr_values}\")\n",
    "print(f\"SSIM: {ssim_values}\")\n"
   ]
  },
  {
   "cell_type": "code",
   "execution_count": null,
   "metadata": {},
   "outputs": [
    {
     "name": "stdout",
     "output_type": "stream",
     "text": [
      "Average MSE: 508.4808248299319\n",
      "Average PSNR: 21.79396879455345\n",
      "Average SSIM: 0.7968869419931298\n",
      "Average RMSE: 21.638596266832966\n"
     ]
    }
   ],
   "source": [
    "# print avg values\n",
    "print(f\"Average MSE: {np.mean(mse_values)}\")    \n",
    "print(f\"Average PSNR: {np.mean(psnr_values)}\")\n",
    "print(f\"Average SSIM: {np.mean(ssim_values)}\")\n",
    "print(f\"Average RMSE: {np.mean(rmse_values)}\")"
   ]
  },
  {
   "cell_type": "markdown",
   "metadata": {
    "id": "UiyC_9uDjHA7"
   },
   "source": [
    "Now we save the weights for the autoencoder trained and then proceed to run autoencoder on a few more examples."
   ]
  },
  {
   "cell_type": "code",
   "execution_count": 23,
   "metadata": {
    "id": "UnUGG4AWiDvU"
   },
   "outputs": [],
   "source": [
    "# Save the weights\n",
    "autoencoder.encoder.save_weights('encoder_weights.weights.h5')\n",
    "autoencoder.decoder.save_weights('decoder_weights.weights.h5')"
   ]
  }
 ],
 "metadata": {
  "colab": {
   "provenance": []
  },
  "kernelspec": {
   "display_name": "Python 3",
   "language": "python",
   "name": "python3"
  },
  "language_info": {
   "codemirror_mode": {
    "name": "ipython",
    "version": 3
   },
   "file_extension": ".py",
   "mimetype": "text/x-python",
   "name": "python",
   "nbconvert_exporter": "python",
   "pygments_lexer": "ipython3",
   "version": "3.12.4"
  }
 },
 "nbformat": 4,
 "nbformat_minor": 0
}
